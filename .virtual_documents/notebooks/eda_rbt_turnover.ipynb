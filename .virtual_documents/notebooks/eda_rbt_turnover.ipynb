import pandas as pd
import matplotlib.pyplot as plt
import seaborn as sns



import os

file_path = "../data/rbt_turnover_data.csv"

# Check if the file exists
if os.path.exists(file_path):
    print("✅ File found!")
    df = pd.read_csv(file_path)
    print(df.head())
else:
    print("❌ File not found! Check the file path.")


# Check for Missing Data:

# Check for missing values
print("Missing Values:\n", df.isnull().sum())

# Show column data types
print("\nData Types:\n", df.dtypes)



# ✅ 1️⃣ Turnover Distribution (How Many RBTs Stayed vs. Left?)

import matplotlib.pyplot as plt
import seaborn as sns

plt.figure(figsize=(6,4))
sns.countplot(x="turnover_status", data=df, hue="turnover_status", palette="pastel", legend=False)
plt.title("Turnover Distribution (0 = Stayed, 1 = Left)")
plt.xlabel("Turnover Status")
plt.ylabel("Count")
plt.show()


# ✅ 2️⃣ RBT Support Rating vs. Turnover

plt.figure(figsize=(8, 6))
sns.boxplot(x="turnover_status", y="rbt_support_rating", data=df, hue="turnover_status", palette="coolwarm", legend=False)
plt.title("RBT Support Rating vs. Turnover")
plt.xlabel("Turnover Status (0 = Stayed, 1 = Left)")
plt.ylabel("RBT Support Rating")
plt.show()


# ✅ 3️⃣ Burnout Score vs. Turnover

plt.figure(figsize=(8, 6))
sns.boxplot(x="turnover_status", y="burnout_score", data=df, hue="turnover_status", palette="magma", legend=False)
plt.title("Burnout Score vs. Turnover")
plt.xlabel("Turnover Status (0 = Stayed, 1 = Left)")
plt.ylabel("Burnout Score")
plt.show()


# ✅ 4️⃣ Work-Life Balance vs. Turnover

plt.figure(figsize=(8, 6))
sns.boxplot(x="turnover_status", y="work_life_balance", data=df, hue="turnover_status", palette="viridis", legend=False)
plt.title("Work-Life Balance vs. Turnover")
plt.xlabel("Turnover Status (0 = Stayed, 1 = Left)")
plt.ylabel("Work-Life Balance Score")
plt.show()


# ✅ 5️⃣ BCBA Goal Communication Score vs. Turnover

plt.figure(figsize=(8, 6))
sns.boxplot(x="turnover_status", y="bcba_goal_communication_score", data=df, hue="turnover_status", palette="Blues", legend=False)
plt.title("BCBA Goal Communication Score vs. Turnover")
plt.xlabel("Turnover Status (0 = Stayed, 1 = Left)")
plt.ylabel("BCBA Goal Communication Score")
plt.show()


# Check data types of all columns
print(df.dtypes)


education_mapping = {
    "High School": 1,
    "Associate's": 2,
    "Bachelor's": 3,
    "Master's": 4,
    "Doctorate": 5
}
df["education_level_encoded"] = df["education_level"].map(education_mapping)


df.drop(columns=["rbt_id", "education_level"], inplace=True)


import numpy as np
import matplotlib.pyplot as plt
import seaborn as sns

# Compute correlation matrix with updated data
corr_matrix = df.corr()

# Set up the matplotlib figure
plt.figure(figsize=(12, 8))

# Generate a heatmap
sns.heatmap(corr_matrix, annot=True, fmt=".2f", cmap="coolwarm", linewidths=0.5, vmin=-1, vmax=1)

# Title
plt.title("Feature Correlation Heatmap (with Education Level)")
plt.show()



